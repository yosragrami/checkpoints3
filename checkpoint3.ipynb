{
 "cells": [
  {
   "cell_type": "code",
   "execution_count": 27,
   "id": "a11154b5-5af9-49eb-8074-fbe4170af3a3",
   "metadata": {},
   "outputs": [],
   "source": [
    "def num (x,y,z):\n",
    "    \n",
    "    if x>y and x>z:   \n",
    "        return (x)\n",
    "    elif y>x and y>z:\n",
    "        return (y)\n",
    "    elif z>x and z>y:\n",
    "        return (z)"
   ]
  },
  {
   "cell_type": "code",
   "execution_count": 28,
   "id": "f24c2e18-2920-4f2b-8a83-b0c40bf3218d",
   "metadata": {},
   "outputs": [
    {
     "data": {
      "text/plain": [
       "89"
      ]
     },
     "execution_count": 28,
     "metadata": {},
     "output_type": "execute_result"
    }
   ],
   "source": [
    "num (13,89,7)"
   ]
  },
  {
   "cell_type": "code",
   "execution_count": 29,
   "id": "693a8005-43a5-451e-b17e-cf2e02f81a58",
   "metadata": {},
   "outputs": [],
   "source": [
    "def my_num (a,b):\n",
    "    return (a+b, a-b)\n"
   ]
  },
  {
   "cell_type": "code",
   "execution_count": 30,
   "id": "5fee0279-0559-48c7-999e-f60020c8fb6b",
   "metadata": {},
   "outputs": [
    {
     "data": {
      "text/plain": [
       "(105, -35)"
      ]
     },
     "execution_count": 30,
     "metadata": {},
     "output_type": "execute_result"
    }
   ],
   "source": [
    "my_num (35,70)"
   ]
  },
  {
   "cell_type": "code",
   "execution_count": 28,
   "id": "e7eb5b38-20fa-46d1-a0d1-8e0397d58817",
   "metadata": {},
   "outputs": [],
   "source": [
    "def sum (list):\n",
    "    sum=0\n",
    "    for i in list:\n",
    "        sum+=i\n",
    "    return (sum)\n"
   ]
  },
  {
   "cell_type": "code",
   "execution_count": 30,
   "id": "99c27be9-ec99-444d-a496-69973dd3a9eb",
   "metadata": {},
   "outputs": [
    {
     "data": {
      "text/plain": [
       "174"
      ]
     },
     "execution_count": 30,
     "metadata": {},
     "output_type": "execute_result"
    }
   ],
   "source": [
    "list=[15,67,8,49,12,23]\n",
    "sum(list)"
   ]
  },
  {
   "cell_type": "code",
   "execution_count": 36,
   "id": "a8079262-7343-4f6b-bb5c-1dea3739b378",
   "metadata": {},
   "outputs": [],
   "source": [
    "def multi (int):\n",
    "    multi=1\n",
    "    for i in int:\n",
    "        multi*=i\n",
    "    return (multi)"
   ]
  },
  {
   "cell_type": "code",
   "execution_count": 37,
   "id": "87385969-68c3-4ff6-973b-106323fb2327",
   "metadata": {},
   "outputs": [
    {
     "data": {
      "text/plain": [
       "945"
      ]
     },
     "execution_count": 37,
     "metadata": {},
     "output_type": "execute_result"
    }
   ],
   "source": [
    "int=[3,7,9,5]\n",
    "multi (int)"
   ]
  },
  {
   "cell_type": "code",
   "execution_count": 7,
   "id": "3a2d0d73-078c-4798-a177-2bac8a151852",
   "metadata": {},
   "outputs": [
    {
     "ename": "NameError",
     "evalue": "name 'evenindexe' is not defined",
     "output_type": "error",
     "traceback": [
      "\u001b[1;31m---------------------------------------------------------------------------\u001b[0m",
      "\u001b[1;31mNameError\u001b[0m                                 Traceback (most recent call last)",
      "\u001b[1;32m~\\AppData\\Local\\Temp/ipykernel_8432/3991545082.py\u001b[0m in \u001b[0;36m<module>\u001b[1;34m\u001b[0m\n\u001b[0;32m     18\u001b[0m         \u001b[0mli\u001b[0m\u001b[1;33m.\u001b[0m\u001b[0mcount\u001b[0m\u001b[1;33m+=\u001b[0m\u001b[1;36m1\u001b[0m\u001b[1;33m\u001b[0m\u001b[1;33m\u001b[0m\u001b[0m\n\u001b[0;32m     19\u001b[0m         \u001b[1;32mreturn\u001b[0m\u001b[1;33m(\u001b[0m\u001b[0mli\u001b[0m\u001b[1;33m.\u001b[0m\u001b[0modd\u001b[0m\u001b[1;33m)\u001b[0m\u001b[1;33m\u001b[0m\u001b[1;33m\u001b[0m\u001b[0m\n\u001b[1;32m---> 20\u001b[1;33m \u001b[0meven_list\u001b[0m\u001b[1;33m=\u001b[0m\u001b[0mevenindexe\u001b[0m\u001b[1;33m(\u001b[0m\u001b[0mlist\u001b[0m\u001b[1;33m)\u001b[0m\u001b[1;33m\u001b[0m\u001b[1;33m\u001b[0m\u001b[0m\n\u001b[0m\u001b[0;32m     21\u001b[0m \u001b[0mprint\u001b[0m\u001b[1;33m(\u001b[0m\u001b[0meven_list\u001b[0m\u001b[1;33m)\u001b[0m\u001b[1;33m\u001b[0m\u001b[1;33m\u001b[0m\u001b[0m\n\u001b[0;32m     22\u001b[0m \u001b[0meven_list\u001b[0m\u001b[1;33m=\u001b[0m\u001b[0mevenindex\u001b[0m\u001b[1;33m(\u001b[0m\u001b[0mlist\u001b[0m\u001b[1;33m)\u001b[0m\u001b[1;33m\u001b[0m\u001b[1;33m\u001b[0m\u001b[0m\n",
      "\u001b[1;31mNameError\u001b[0m: name 'evenindexe' is not defined"
     ]
    }
   ],
   "source": [
    "\n",
    "   \n",
    "def evenindex(list):  \n",
    "    li.even=[]\n",
    "    li.count=0\n",
    "    for i in list:\n",
    "        \n",
    "        if li.count%2==0:\n",
    "            li.even.append(i)\n",
    "        li.count+=1\n",
    "        return(li.even)\n",
    "           \n",
    "def oddindex(list):  \n",
    "    li.odd=[]\n",
    "    li.count=0\n",
    "    for i in list:\n",
    "        \n",
    "        if li.count%2!=0:\n",
    "            li.odd.append(i)\n",
    "        li.count+=1\n",
    "        return(li.odd)\n",
    "\n",
    "        \n",
    "    "
   ]
  },
  {
   "cell_type": "code",
   "execution_count": 18,
   "id": "8681ddbc-c0c6-4b29-9782-8e87e8972a01",
   "metadata": {},
   "outputs": [
    {
     "name": "stdout",
     "output_type": "stream",
     "text": [
      "None\n",
      "3\n"
     ]
    }
   ],
   "source": [
    "\n"
   ]
  },
  {
   "cell_type": "code",
   "execution_count": 39,
   "id": "b9311a8d-ff54-46ee-a0a8-4bd9ec08f991",
   "metadata": {},
   "outputs": [],
   "source": [
    "def my_str (sttr):\n",
    "    sttr= sttr.split('-') \n",
    "    \n",
    "    sttr=sorted(sttr) \n",
    "    \n",
    "    sttr=\"-\".join(sttr)\n",
    "    return(sttr)\n"
   ]
  },
  {
   "cell_type": "code",
   "execution_count": 40,
   "id": "0c3aea07-44e2-4925-a42d-4f01c0084bdc",
   "metadata": {},
   "outputs": [
    {
     "data": {
      "text/plain": [
       "'black-green-red-white-yellow'"
      ]
     },
     "execution_count": 40,
     "metadata": {},
     "output_type": "execute_result"
    }
   ],
   "source": [
    "sttr=(\"green-red-yellow-black-white\")\n",
    "my_str(sttr)"
   ]
  },
  {
   "cell_type": "code",
   "execution_count": 43,
   "id": "27cb73cd-5d7b-496b-9335-53ccbf87746e",
   "metadata": {},
   "outputs": [
    {
     "name": "stdin",
     "output_type": "stream",
     "text": [
      " a-f-v-l\n"
     ]
    },
    {
     "name": "stdout",
     "output_type": "stream",
     "text": [
      "['a', 'f', 'l', 'v']\n"
     ]
    }
   ],
   "source": [
    "items=[n for n in input().split('-')]\n",
    "items=sorted(items)\n",
    "print(items)"
   ]
  },
  {
   "cell_type": "code",
   "execution_count": 60,
   "id": "588f7095-c6f5-480e-8c46-ae5680d05c07",
   "metadata": {},
   "outputs": [
    {
     "name": "stdout",
     "output_type": "stream",
     "text": [
      "[18, 22, 24]\n"
     ]
    }
   ],
   "source": [
    "import math\n",
    "def operation(d):\n",
    "    round (d)\n",
    "    c=50\n",
    "    h=30\n",
    "    Q= math.sqrt((2*c*d)/h)\n",
    "    return(round(Q))\n",
    "result=list(map(operation, (100,150,180)))\n",
    "print (result)"
   ]
  },
  {
   "cell_type": "code",
   "execution_count": null,
   "id": "406ec5d0-a26b-4951-afd2-5d96603f3a92",
   "metadata": {},
   "outputs": [],
   "source": []
  }
 ],
 "metadata": {
  "kernelspec": {
   "display_name": "Python 3 (ipykernel)",
   "language": "python",
   "name": "python3"
  },
  "language_info": {
   "codemirror_mode": {
    "name": "ipython",
    "version": 3
   },
   "file_extension": ".py",
   "mimetype": "text/x-python",
   "name": "python",
   "nbconvert_exporter": "python",
   "pygments_lexer": "ipython3",
   "version": "3.9.7"
  }
 },
 "nbformat": 4,
 "nbformat_minor": 5
}
